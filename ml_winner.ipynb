{
 "cells": [
  {
   "cell_type": "code",
   "execution_count": 2,
   "id": "0df8ffd5",
   "metadata": {},
   "outputs": [],
   "source": [
    "import pandas as pd\n",
    "from sklearn.model_selection import train_test_split\n",
    "from sklearn.compose import ColumnTransformer\n",
    "from sklearn.preprocessing import OneHotEncoder\n",
    "from sklearn.pipeline import Pipeline\n",
    "from sklearn.ensemble import RandomForestClassifier\n",
    "from sklearn.metrics import accuracy_score, classification_report, confusion_matrix\n",
    "import joblib\n"
   ]
  },
  {
   "cell_type": "code",
   "execution_count": null,
   "id": "4a53cfc2",
   "metadata": {},
   "outputs": [],
   "source": [
    "df = pd.read_csv(\"dataset_f1_ml_ready.csv\")\n",
    "df[\"win\"] = (df[\"positionOrder\"] == 1).astype(int)\n",
    "\n",
    "features = [\"year\",\"round\",\"gp_name\",\"forename\",\"surname\",\"team\",\n",
    "            \"grid\",\"n_pitstops\",\"avg_pit_ms\",\"is_rain\"]\n",
    "target = \"win\"\n",
    "\n",
    "X = df[features].copy()\n",
    "y = df[target].astype(int)\n",
    "\n",
    "num_cols = [\"year\",\"round\",\"grid\",\"n_pitstops\",\"avg_pit_ms\"]\n",
    "cat_cols = [\"gp_name\",\"forename\",\"surname\",\"team\",\"is_rain\"]\n"
   ]
  },
  {
   "cell_type": "code",
   "execution_count": 4,
   "id": "5c5e1c6e",
   "metadata": {},
   "outputs": [],
   "source": [
    "preproc = ColumnTransformer([\n",
    "    (\"num\", \"passthrough\", num_cols),\n",
    "    (\"cat\", OneHotEncoder(handle_unknown=\"ignore\"), cat_cols)\n",
    "])\n",
    "\n",
    "X_train, X_test, y_train, y_test = train_test_split(\n",
    "    X, y, test_size=0.2, random_state=42, stratify=y\n",
    ")\n"
   ]
  },
  {
   "cell_type": "code",
   "execution_count": null,
   "id": "6eb85ecc",
   "metadata": {},
   "outputs": [
    {
     "name": "stdout",
     "output_type": "stream",
     "text": [
      "Accuracy: 1.0\n",
      "Report:\n",
      "               precision    recall  f1-score   support\n",
      "\n",
      "           0      1.000     1.000     1.000     69278\n",
      "           1      1.000     0.999     0.999      3646\n",
      "\n",
      "    accuracy                          1.000     72924\n",
      "   macro avg      1.000     0.999     1.000     72924\n",
      "weighted avg      1.000     1.000     1.000     72924\n",
      "\n",
      "Confusion:\n",
      " [[69278     0]\n",
      " [    4  3642]]\n"
     ]
    }
   ],
   "source": [
    "clf = RandomForestClassifier(\n",
    "    n_estimators=600, max_depth=None, min_samples_leaf=2,\n",
    "    random_state=42, n_jobs=-1\n",
    ")\n",
    "\n",
    "pipe = Pipeline([\n",
    "    (\"prep\", preproc),\n",
    "    (\"rf\", clf)\n",
    "])\n",
    "\n",
    "pipe.fit(X_train, y_train)\n",
    "\n",
    "pred = pipe.predict(X_test)\n",
    "proba = pipe.predict_proba(X_test)[:,1]\n"
   ]
  },
  {
   "cell_type": "code",
   "execution_count": null,
   "id": "047ca2d8",
   "metadata": {},
   "outputs": [
    {
     "name": "stdout",
     "output_type": "stream",
     "text": [
      "✅ Sauvegardé: model_winner_rf.pkl\n"
     ]
    }
   ],
   "source": [
    "joblib.dump(pipe, \"model_winner_rf.pkl\")"
   ]
  }
 ],
 "metadata": {
  "kernelspec": {
   "display_name": ".venv",
   "language": "python",
   "name": "python3"
  },
  "language_info": {
   "codemirror_mode": {
    "name": "ipython",
    "version": 3
   },
   "file_extension": ".py",
   "mimetype": "text/x-python",
   "name": "python",
   "nbconvert_exporter": "python",
   "pygments_lexer": "ipython3",
   "version": "3.13.7"
  }
 },
 "nbformat": 4,
 "nbformat_minor": 5
}
