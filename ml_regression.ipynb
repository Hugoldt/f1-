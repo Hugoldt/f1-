{
 "cells": [
  {
   "cell_type": "code",
   "execution_count": 11,
   "id": "ceda6732",
   "metadata": {},
   "outputs": [],
   "source": [
    "import pandas as pd\n",
    "import numpy as np\n",
    "\n",
    "from sklearn.model_selection import train_test_split\n",
    "from sklearn.compose import ColumnTransformer\n",
    "from sklearn.pipeline import Pipeline\n",
    "from sklearn.preprocessing import OneHotEncoder\n",
    "from sklearn.ensemble import RandomForestRegressor\n",
    "\n",
    "from sklearn.metrics import mean_absolute_error, mean_squared_error, r2_score\n",
    "import joblib\n"
   ]
  },
  {
   "cell_type": "code",
   "execution_count": 12,
   "id": "5e65a6ef",
   "metadata": {},
   "outputs": [
    {
     "name": "stderr",
     "output_type": "stream",
     "text": [
      "/var/folders/6y/bgq48wy56sl55016m2z598fh0000gn/T/ipykernel_42335/1207322929.py:22: FutureWarning: Downcasting object dtype arrays on .fillna, .ffill, .bfill is deprecated and will change in a future version. Call result.infer_objects(copy=False) instead. To opt-in to the future behavior, set `pd.set_option('future.no_silent_downcasting', True)`\n",
      "  df[\"is_rain\"] = df[\"is_rain\"].fillna(False)\n"
     ]
    },
    {
     "name": "stdout",
     "output_type": "stream",
     "text": [
      "Shape final après merges: (205770, 28)\n"
     ]
    },
    {
     "data": {
      "text/html": [
       "<div>\n",
       "<style scoped>\n",
       "    .dataframe tbody tr th:only-of-type {\n",
       "        vertical-align: middle;\n",
       "    }\n",
       "\n",
       "    .dataframe tbody tr th {\n",
       "        vertical-align: top;\n",
       "    }\n",
       "\n",
       "    .dataframe thead th {\n",
       "        text-align: right;\n",
       "    }\n",
       "</style>\n",
       "<table border=\"1\" class=\"dataframe\">\n",
       "  <thead>\n",
       "    <tr style=\"text-align: right;\">\n",
       "      <th></th>\n",
       "      <th>resultId</th>\n",
       "      <th>raceId</th>\n",
       "      <th>driverId</th>\n",
       "      <th>constructorId</th>\n",
       "      <th>number</th>\n",
       "      <th>grid</th>\n",
       "      <th>position</th>\n",
       "      <th>positionText</th>\n",
       "      <th>positionOrder</th>\n",
       "      <th>points</th>\n",
       "      <th>...</th>\n",
       "      <th>year</th>\n",
       "      <th>round</th>\n",
       "      <th>gp_name</th>\n",
       "      <th>forename</th>\n",
       "      <th>surname</th>\n",
       "      <th>team</th>\n",
       "      <th>is_rain</th>\n",
       "      <th>n_pitstops</th>\n",
       "      <th>avg_pit_ms</th>\n",
       "      <th>places_gained</th>\n",
       "    </tr>\n",
       "  </thead>\n",
       "  <tbody>\n",
       "    <tr>\n",
       "      <th>0</th>\n",
       "      <td>23782</td>\n",
       "      <td>989</td>\n",
       "      <td>20</td>\n",
       "      <td>6</td>\n",
       "      <td>5</td>\n",
       "      <td>3</td>\n",
       "      <td>1</td>\n",
       "      <td>1</td>\n",
       "      <td>1</td>\n",
       "      <td>25.0</td>\n",
       "      <td>...</td>\n",
       "      <td>2018</td>\n",
       "      <td>1</td>\n",
       "      <td>Australian Grand Prix</td>\n",
       "      <td>Sebastian</td>\n",
       "      <td>Vettel</td>\n",
       "      <td>Ferrari</td>\n",
       "      <td>False</td>\n",
       "      <td>1</td>\n",
       "      <td>21787.0</td>\n",
       "      <td>2</td>\n",
       "    </tr>\n",
       "    <tr>\n",
       "      <th>1</th>\n",
       "      <td>23782</td>\n",
       "      <td>989</td>\n",
       "      <td>20</td>\n",
       "      <td>6</td>\n",
       "      <td>5</td>\n",
       "      <td>3</td>\n",
       "      <td>1</td>\n",
       "      <td>1</td>\n",
       "      <td>1</td>\n",
       "      <td>25.0</td>\n",
       "      <td>...</td>\n",
       "      <td>2018</td>\n",
       "      <td>1</td>\n",
       "      <td>Australian Grand Prix</td>\n",
       "      <td>Sebastian</td>\n",
       "      <td>Vettel</td>\n",
       "      <td>Ferrari</td>\n",
       "      <td>False</td>\n",
       "      <td>1</td>\n",
       "      <td>21787.0</td>\n",
       "      <td>2</td>\n",
       "    </tr>\n",
       "    <tr>\n",
       "      <th>2</th>\n",
       "      <td>23782</td>\n",
       "      <td>989</td>\n",
       "      <td>20</td>\n",
       "      <td>6</td>\n",
       "      <td>5</td>\n",
       "      <td>3</td>\n",
       "      <td>1</td>\n",
       "      <td>1</td>\n",
       "      <td>1</td>\n",
       "      <td>25.0</td>\n",
       "      <td>...</td>\n",
       "      <td>2018</td>\n",
       "      <td>1</td>\n",
       "      <td>Australian Grand Prix</td>\n",
       "      <td>Sebastian</td>\n",
       "      <td>Vettel</td>\n",
       "      <td>Ferrari</td>\n",
       "      <td>False</td>\n",
       "      <td>1</td>\n",
       "      <td>21787.0</td>\n",
       "      <td>2</td>\n",
       "    </tr>\n",
       "    <tr>\n",
       "      <th>3</th>\n",
       "      <td>23782</td>\n",
       "      <td>989</td>\n",
       "      <td>20</td>\n",
       "      <td>6</td>\n",
       "      <td>5</td>\n",
       "      <td>3</td>\n",
       "      <td>1</td>\n",
       "      <td>1</td>\n",
       "      <td>1</td>\n",
       "      <td>25.0</td>\n",
       "      <td>...</td>\n",
       "      <td>2018</td>\n",
       "      <td>1</td>\n",
       "      <td>Australian Grand Prix</td>\n",
       "      <td>Sebastian</td>\n",
       "      <td>Vettel</td>\n",
       "      <td>Ferrari</td>\n",
       "      <td>False</td>\n",
       "      <td>1</td>\n",
       "      <td>21787.0</td>\n",
       "      <td>2</td>\n",
       "    </tr>\n",
       "    <tr>\n",
       "      <th>4</th>\n",
       "      <td>23782</td>\n",
       "      <td>989</td>\n",
       "      <td>20</td>\n",
       "      <td>6</td>\n",
       "      <td>5</td>\n",
       "      <td>3</td>\n",
       "      <td>1</td>\n",
       "      <td>1</td>\n",
       "      <td>1</td>\n",
       "      <td>25.0</td>\n",
       "      <td>...</td>\n",
       "      <td>2018</td>\n",
       "      <td>1</td>\n",
       "      <td>Australian Grand Prix</td>\n",
       "      <td>Sebastian</td>\n",
       "      <td>Vettel</td>\n",
       "      <td>Ferrari</td>\n",
       "      <td>False</td>\n",
       "      <td>1</td>\n",
       "      <td>21787.0</td>\n",
       "      <td>2</td>\n",
       "    </tr>\n",
       "  </tbody>\n",
       "</table>\n",
       "<p>5 rows × 28 columns</p>\n",
       "</div>"
      ],
      "text/plain": [
       "   resultId  raceId  driverId  constructorId number  grid position  \\\n",
       "0     23782     989        20              6      5     3        1   \n",
       "1     23782     989        20              6      5     3        1   \n",
       "2     23782     989        20              6      5     3        1   \n",
       "3     23782     989        20              6      5     3        1   \n",
       "4     23782     989        20              6      5     3        1   \n",
       "\n",
       "  positionText  positionOrder  points  ...  year round                gp_name  \\\n",
       "0            1              1    25.0  ...  2018     1  Australian Grand Prix   \n",
       "1            1              1    25.0  ...  2018     1  Australian Grand Prix   \n",
       "2            1              1    25.0  ...  2018     1  Australian Grand Prix   \n",
       "3            1              1    25.0  ...  2018     1  Australian Grand Prix   \n",
       "4            1              1    25.0  ...  2018     1  Australian Grand Prix   \n",
       "\n",
       "    forename surname     team is_rain  n_pitstops  avg_pit_ms  places_gained  \n",
       "0  Sebastian  Vettel  Ferrari   False           1     21787.0              2  \n",
       "1  Sebastian  Vettel  Ferrari   False           1     21787.0              2  \n",
       "2  Sebastian  Vettel  Ferrari   False           1     21787.0              2  \n",
       "3  Sebastian  Vettel  Ferrari   False           1     21787.0              2  \n",
       "4  Sebastian  Vettel  Ferrari   False           1     21787.0              2  \n",
       "\n",
       "[5 rows x 28 columns]"
      ]
     },
     "execution_count": 12,
     "metadata": {},
     "output_type": "execute_result"
    }
   ],
   "source": [
    "races        = pd.read_csv(\"races.csv\")\n",
    "results      = pd.read_csv(\"results.csv\")\n",
    "drivers      = pd.read_csv(\"drivers.csv\")\n",
    "constructors = pd.read_csv(\"constructors.csv\")\n",
    "pit_stops    = pd.read_csv(\"pit_stops.csv\")\n",
    "weather      = pd.read_csv(\"F1 Weather(2023-2018) (1).csv\")\n",
    "\n",
    "races = races[races[\"year\"] >= 2018].copy()\n",
    "\n",
    "df = results.merge(\n",
    "    races[[\"raceId\",\"year\",\"round\",\"name\"]].rename(columns={\"name\":\"gp_name\"}),\n",
    "    on=\"raceId\", how=\"inner\"\n",
    ")\n",
    "\n",
    "df = df.merge(drivers[[\"driverId\",\"forename\",\"surname\"]], on=\"driverId\", how=\"left\")\n",
    "df = df.merge(constructors[[\"constructorId\",\"name\"]].rename(columns={\"name\":\"team\"}),\n",
    "              on=\"constructorId\", how=\"left\")\n",
    "\n",
    "weather = weather.rename(columns={\"Year\":\"year\",\"Round Number\":\"round\",\"Rainfall\":\"rain\"})\n",
    "weather[\"is_rain\"] = weather[\"rain\"].astype(str).str.lower().isin([\"true\",\"yes\",\"1\"])\n",
    "df = df.merge(weather[[\"year\",\"round\",\"is_rain\"]], on=[\"year\",\"round\"], how=\"left\")\n",
    "df[\"is_rain\"] = df[\"is_rain\"].fillna(False)\n",
    "\n",
    "if \"milliseconds\" not in pit_stops.columns and \"duration\" in pit_stops.columns:\n",
    "    pit_stops[\"duration\"] = pd.to_numeric(pit_stops[\"duration\"], errors=\"coerce\")\n",
    "    pit_stops[\"milliseconds\"] = pit_stops[\"duration\"] * 1000\n",
    "\n",
    "pit_agg = pit_stops.groupby([\"raceId\",\"driverId\"]).agg(\n",
    "    n_pitstops=(\"stop\",\"count\"),\n",
    "    avg_pit_ms=(\"milliseconds\",\"mean\")\n",
    ").reset_index()\n",
    "\n",
    "df = df.merge(pit_agg, on=[\"raceId\",\"driverId\"], how=\"left\")\n",
    "df[\"n_pitstops\"] = df[\"n_pitstops\"].fillna(0).astype(int)\n",
    "df[\"avg_pit_ms\"] = df[\"avg_pit_ms\"].fillna(df[\"avg_pit_ms\"].median())\n",
    "\n",
    "df[\"milliseconds\"] = pd.to_numeric(df[\"milliseconds\"], errors=\"coerce\")\n",
    "df = df.dropna(subset=[\"milliseconds\"]).copy()\n",
    "\n",
    "df[\"grid\"]          = pd.to_numeric(df[\"grid\"], errors=\"coerce\")\n",
    "df[\"positionOrder\"] = pd.to_numeric(df[\"positionOrder\"], errors=\"coerce\")\n",
    "df[\"places_gained\"] = df[\"grid\"] - df[\"positionOrder\"]\n",
    "\n",
    "df[\"grid\"]          = df[\"grid\"].fillna(df[\"grid\"].median())\n",
    "df[\"positionOrder\"] = df[\"positionOrder\"].fillna(df[\"positionOrder\"].median())\n",
    "df[\"places_gained\"] = df[\"places_gained\"].fillna(0)\n",
    "\n",
    "df.head()"
   ]
  },
  {
   "cell_type": "code",
   "execution_count": 13,
   "id": "c02ddcc6",
   "metadata": {},
   "outputs": [
    {
     "name": "stdout",
     "output_type": "stream",
     "text": [
      "📊 Nombre total de lignes : 205770\n",
      "📊 Nombre de colonnes utilisées pour X : 10\n",
      "📊 Colonnes utilisées : ['year', 'round', 'grid', 'n_pitstops', 'avg_pit_ms', 'gp_name', 'forename', 'surname', 'team', 'is_rain']\n",
      "🎯 Target : milliseconds\n"
     ]
    }
   ],
   "source": [
    "target = \"milliseconds\"\n",
    "\n",
    "num_cols = [\"year\",\"round\",\"grid\",\"n_pitstops\",\"avg_pit_ms\"]\n",
    "cat_cols = [\"gp_name\",\"forename\",\"surname\",\"team\",\"is_rain\"]\n",
    "\n",
    "X = df[num_cols + cat_cols].copy()\n",
    "y = df[target].astype(float)\n"
   ]
  },
  {
   "cell_type": "code",
   "execution_count": 14,
   "id": "77c62d95",
   "metadata": {},
   "outputs": [],
   "source": [
    "preproc = ColumnTransformer(\n",
    "    transformers=[\n",
    "        (\"num\", \"passthrough\", num_cols),\n",
    "        (\"cat\", OneHotEncoder(handle_unknown=\"ignore\"), cat_cols),\n",
    "    ]\n",
    ")\n",
    "\n",
    "rf = RandomForestRegressor(\n",
    "    n_estimators=400,\n",
    "    random_state=42,\n",
    "    n_jobs=-1\n",
    ")\n",
    "\n",
    "pipe = Pipeline([\n",
    "    (\"prep\", preproc),\n",
    "    (\"rf\", rf)\n",
    "])"
   ]
  },
  {
   "cell_type": "code",
   "execution_count": 15,
   "id": "3792678d",
   "metadata": {},
   "outputs": [
    {
     "data": {
      "text/plain": [
       "((164616, 10), (41154, 10))"
      ]
     },
     "execution_count": 15,
     "metadata": {},
     "output_type": "execute_result"
    }
   ],
   "source": [
    "X_train, X_test, y_train, y_test = train_test_split(\n",
    "    X, y, test_size=0.2, random_state=42\n",
    ")\n",
    "X_train.shape, X_test.shape"
   ]
  },
  {
   "cell_type": "code",
   "execution_count": 16,
   "id": "3f9718f5",
   "metadata": {},
   "outputs": [
    {
     "name": "stdout",
     "output_type": "stream",
     "text": [
      "Modèle entraîné \n"
     ]
    }
   ],
   "source": [
    "pipe.fit(X_train, y_train)"
   ]
  },
  {
   "cell_type": "code",
   "execution_count": 17,
   "id": "7c8f5424",
   "metadata": {},
   "outputs": [
    {
     "name": "stdout",
     "output_type": "stream",
     "text": [
      "MAE  ≈ 0.06 s\n",
      "RMSE ≈ 2.91 s\n",
      "R²                   :  1.000\n"
     ]
    }
   ],
   "source": [
    "import numpy as np\n",
    "from sklearn.metrics import mean_absolute_error, mean_squared_error, r2_score\n",
    "\n",
    "y_pred = pipe.predict(X_test)\n",
    "\n",
    "mae  = mean_absolute_error(y_test, y_pred)\n",
    "mse  = mean_squared_error(y_test, y_pred)   \n",
    "rmse = np.sqrt(mse)\n",
    "r2   = r2_score(y_test, y_pred)\n"
   ]
  },
  {
   "cell_type": "code",
   "execution_count": 18,
   "id": "7ec03971",
   "metadata": {},
   "outputs": [
    {
     "name": "stdout",
     "output_type": "stream",
     "text": [
      "Modèle sauvegardé → model_time_rf.pkl\n"
     ]
    }
   ],
   "source": [
    "joblib.dump(pipe, \"model_time_rf.pkl\")"
   ]
  },
  {
   "cell_type": "code",
   "execution_count": 19,
   "id": "b0071146",
   "metadata": {},
   "outputs": [
    {
     "name": "stdout",
     "output_type": "stream",
     "text": [
      "Temps prédit : 5,183,280 ms (~5,183.3 s)\n"
     ]
    }
   ],
   "source": [
    "df_ex = pd.DataFrame([{\n",
    "    \"year\": 2024,\n",
    "    \"round\": 1,\n",
    "    \"gp_name\": \"Bahrain Grand Prix\",\n",
    "    \"forename\": \"Max\",\n",
    "    \"surname\": \"Verstappen\",\n",
    "    \"team\": \"Red Bull\",\n",
    "    \"grid\": 2,\n",
    "    \"n_pitstops\": 2,\n",
    "    \"avg_pit_ms\": 2300.0,\n",
    "    \"is_rain\": False\n",
    "}])\n",
    "\n",
    "pred_ms = pipe.predict(df_ex)[0]\n"
   ]
  },
  {
   "cell_type": "code",
   "execution_count": 20,
   "id": "b75525dc",
   "metadata": {},
   "outputs": [
    {
     "name": "stdout",
     "output_type": "stream",
     "text": [
      "⏱️ Temps sec P1 : 5181.9 s\n",
      "🌧️ Temps pluie : 5579.2 s\n",
      "⬇️ Temps départ P10 : 5192.2 s\n"
     ]
    },
    {
     "data": {
      "image/png": "[encoded data removed]",
      "text/plain": [
       "<Figure size 600x600 with 1 Axes>"
      ]
     },
     "metadata": {},
     "output_type": "display_data"
    },
    {
     "data": {
      "image/png": "[encoded data removed]",
      "text/plain": [
       "<Figure size 600x400 with 1 Axes>"
      ]
     },
     "metadata": {},
     "output_type": "display_data"
    }
   ],
   "source": [
    "import pandas as pd\n",
    "\n",
    "df_ex = pd.DataFrame([{\n",
    "    \"year\": 2024,\n",
    "    \"round\": 1,\n",
    "    \"gp_name\": \"Bahrain Grand Prix\",\n",
    "    \"forename\": \"Max\",\n",
    "    \"surname\": \"Verstappen\",\n",
    "    \"team\": \"Red Bull\",\n",
    "    \"grid\": 1,\n",
    "    \"n_pitstops\": 2,\n",
    "    \"avg_pit_ms\": 2300.0,\n",
    "    \"is_rain\": False\n",
    "}])\n",
    "\n",
    "pred_base = pipe.predict(df_ex)[0]\n",
    "df_ex_rain = df_ex.copy(); df_ex_rain[\"is_rain\"] = True\n",
    "pred_rain = pipe.predict(df_ex_rain)[0]\n",
    "\n",
    "df_ex_back = df_ex.copy(); df_ex_back[\"grid\"] = 10\n",
    "pred_back = pipe.predict(df_ex_back)[0]\n",
    "\n",
    "import matplotlib.pyplot as plt\n",
    "import numpy as np\n",
    "\n",
    "plt.figure(figsize=(6,6))\n",
    "plt.scatter(y_test, y_pred, alpha=0.3)\n",
    "lims = [min(y_test.min(), y_pred.min()), max(y_test.max(), y_pred.max())]\n",
    "plt.plot(lims, lims, 'r--')\n",
    "plt.xlabel(\"Vrai temps (ms)\")\n",
    "plt.ylabel(\"Temps prédit (ms)\")\n",
    "plt.title(\"Régression — y_test vs y_pred\")\n",
    "plt.tight_layout()\n",
    "plt.savefig(\"eval_reg_scatter.png\", dpi=150)\n",
    "plt.show()\n",
    "errors = y_pred - y_test\n",
    "\n",
    "plt.figure(figsize=(6,4))\n",
    "plt.hist(errors, bins=40)\n",
    "plt.title(\"Répartition des erreurs (y_pred - y_test)\")\n",
    "plt.xlabel(\"Erreur (ms)\")\n",
    "plt.ylabel(\"Fréquence\")\n",
    "plt.tight_layout()\n",
    "plt.savefig(\"eval_reg_errors.png\", dpi=150)\n",
    "plt.show()\n"
   ]
  }
 ],
 "metadata": {
  "kernelspec": {
   "display_name": ".venv",
   "language": "python",
   "name": "python3"
  },
  "language_info": {
   "codemirror_mode": {
    "name": "ipython",
    "version": 3
   },
   "file_extension": ".py",
   "mimetype": "text/x-python",
   "name": "python",
   "nbconvert_exporter": "python",
   "pygments_lexer": "ipython3",
   "version": "3.13.7"
  }
 },
 "nbformat": 4,
 "nbformat_minor": 5
}
